{
 "cells": [
  {
   "cell_type": "markdown",
   "id": "c1128903",
   "metadata": {},
   "source": [
    "# BLAS ASSIGNMENT"
   ]
  },
  {
   "cell_type": "markdown",
   "id": "26afb58d",
   "metadata": {},
   "source": [
    "Use the cell below for all your imports."
   ]
  },
  {
   "cell_type": "code",
   "execution_count": 1,
   "id": "d72a4a74",
   "metadata": {},
   "outputs": [],
   "source": [
    "import numpy as np\n",
    "from scipy.linalg.blas import dgemv, ddot, dnrm2"
   ]
  },
  {
   "cell_type": "markdown",
   "id": "91919505",
   "metadata": {},
   "source": [
    "Create a matrix and a vector using NumPy.Their dtype should be double."
   ]
  },
  {
   "cell_type": "code",
   "execution_count": 2,
   "id": "f6837913",
   "metadata": {},
   "outputs": [],
   "source": [
    "A = np.array([[1, 2, 3], [4, 5, 6], [7, 8, 9]], dtype=np.double)\n",
    "x = np.array([1, 2, 3], dtype=np.double)"
   ]
  },
  {
   "cell_type": "markdown",
   "id": "65f452f9",
   "metadata": {},
   "source": [
    "Use BLAS functions to perform matrix-vector multiplication"
   ]
  },
  {
   "cell_type": "code",
   "execution_count": 3,
   "id": "924e84ec",
   "metadata": {},
   "outputs": [
    {
     "data": {
      "text/plain": [
       "array([14., 32., 50.])"
      ]
     },
     "execution_count": 3,
     "metadata": {},
     "output_type": "execute_result"
    }
   ],
   "source": [
    "from scipy.linalg import blas\n",
    "from scipy.linalg import lapack\n",
    "\n",
    "z = blas.dgemv(alpha =1.0, a = A, x = x)\n",
    "z"
   ]
  },
  {
   "cell_type": "code",
   "execution_count": 4,
   "id": "0f77ebcf",
   "metadata": {},
   "outputs": [
    {
     "name": "stdout",
     "output_type": "stream",
     "text": [
      "[0. 0. 0.]\n"
     ]
    }
   ],
   "source": [
    "y = np.zeros_like(x)\n",
    "alpha = 1.0\n",
    "beta = 0.0\n",
    "dgemv(alpha, A, x, beta, y)\n",
    "print(y)"
   ]
  },
  {
   "cell_type": "markdown",
   "id": "e4414420",
   "metadata": {},
   "source": [
    "Create two new vectors and calculate their dot product using BLAS functions."
   ]
  },
  {
   "cell_type": "code",
   "execution_count": 5,
   "id": "69354f50",
   "metadata": {},
   "outputs": [
    {
     "name": "stdout",
     "output_type": "stream",
     "text": [
      "32.0\n"
     ]
    }
   ],
   "source": [
    "a = np.array([1, 2, 3], dtype=np.double)\n",
    "b = np.array([4, 5, 6], dtype=np.double)\n",
    "result = ddot(a, b)\n",
    "print(result)"
   ]
  },
  {
   "cell_type": "markdown",
   "id": "288bcaf5",
   "metadata": {},
   "source": [
    "Compute the L2 norm (Euclidean distance) of a vector using BLAS functions"
   ]
  },
  {
   "cell_type": "code",
   "execution_count": 6,
   "id": "82d0652a",
   "metadata": {},
   "outputs": [
    {
     "name": "stdout",
     "output_type": "stream",
     "text": [
      "3.7416573867739413\n"
     ]
    }
   ],
   "source": [
    "a = np.array([1, 2, 3], dtype=np.double)\n",
    "norm = dnrm2(a)\n",
    "print(norm)"
   ]
  },
  {
   "cell_type": "markdown",
   "id": "523a141c",
   "metadata": {},
   "source": [
    "Create a 5x5 symmetric matrix and calculate its eigenvalues and eigenvectors using BLAS functions"
   ]
  },
  {
   "cell_type": "code",
   "execution_count": 7,
   "id": "46063527",
   "metadata": {},
   "outputs": [
    {
     "name": "stdout",
     "output_type": "stream",
     "text": [
      "Eigenvalues: [-0.51572947  0.17091519 11.34481428]\n",
      "Eigenvectors: [[ 0.73697623  0.59100905  0.32798528]\n",
      " [ 0.32798528 -0.73697623  0.59100905]\n",
      " [-0.59100905  0.32798528  0.73697623]]\n"
     ]
    }
   ],
   "source": [
    "A = np.array([[1, 2, 3], [2, 4, 5], [3, 5, 6]], dtype=np.double)\n",
    "w = lapack.dsyev(A)\n",
    "print(\"Eigenvalues:\", w[0])\n",
    "print(\"Eigenvectors:\", w[1])"
   ]
  },
  {
   "cell_type": "markdown",
   "id": "b1bfaf15",
   "metadata": {},
   "source": [
    "Given the following matrix `A` and vector `v`: "
   ]
  },
  {
   "cell_type": "code",
   "execution_count": 8,
   "id": "2364d2a9",
   "metadata": {},
   "outputs": [],
   "source": [
    "A = np.array([[1, 2, 3], [4, 5, 6], [7, 8, 9]], dtype=np.double)\n",
    "b = np.array([1, 2, 3], dtype=np.double)"
   ]
  },
  {
   "cell_type": "markdown",
   "id": "a2a7d962",
   "metadata": {},
   "source": [
    "Solve the system `Ax = b` using the LU decomposition method and BLAS functions"
   ]
  },
  {
   "cell_type": "code",
   "execution_count": 9,
   "id": "3cf312a1",
   "metadata": {},
   "outputs": [
    {
     "name": "stdout",
     "output_type": "stream",
     "text": [
      "(array([[ 7.00000000e+00,  8.00000000e+00,  9.00000000e+00],\n",
      "       [ 1.42857143e-01,  8.57142857e-01,  1.71428571e+00],\n",
      "       [ 5.71428571e-01,  5.00000000e-01, -1.58603289e-16]]), array([2, 2, 2], dtype=int32), 0)\n"
     ]
    }
   ],
   "source": [
    "A = np.array([[1, 2, 3], [4, 5, 6], [7, 8, 9]], dtype=np.double)\n",
    "b = np.array([1, 2, 3], dtype=np.double)\n",
    "#lu, piv = lapack.dgetrf(A)\n",
    "lu = lapack.dgetrf(A)\n",
    "#x = lapack.dgetri(lu, b)\n",
    "print(lu)"
   ]
  },
  {
   "cell_type": "markdown",
   "id": "8053b357",
   "metadata": {},
   "source": [
    "# Merge Sort"
   ]
  },
  {
   "cell_type": "code",
   "execution_count": 10,
   "id": "d5b5f94e",
   "metadata": {},
   "outputs": [],
   "source": [
    "import numpy as np\n",
    "A = np.array([2,5,8,17,19])\n",
    "B = np.array([1,4,5,7,11,14])\n",
    "\n",
    "def merge_sort(A,B):\n",
    "  \n",
    "            \n",
    "    return c"
   ]
  },
  {
   "cell_type": "code",
   "execution_count": 11,
   "id": "fb6ec9a6",
   "metadata": {},
   "outputs": [
    {
     "data": {
      "text/plain": [
       "array([ 1, 11])"
      ]
     },
     "execution_count": 11,
     "metadata": {},
     "output_type": "execute_result"
    }
   ],
   "source": [
    "n = len(A) + len(B)\n",
    "c = np.array((1,n))\n",
    "c"
   ]
  },
  {
   "cell_type": "code",
   "execution_count": 12,
   "id": "63690905",
   "metadata": {},
   "outputs": [
    {
     "data": {
      "text/plain": [
       "array([ 1, 11])"
      ]
     },
     "execution_count": 12,
     "metadata": {},
     "output_type": "execute_result"
    }
   ],
   "source": [
    "merge_sort(A,B)"
   ]
  },
  {
   "cell_type": "code",
   "execution_count": 13,
   "id": "90d41b20",
   "metadata": {},
   "outputs": [],
   "source": [
    "A = [2,5,8,17,19]\n",
    "B = [1,4,5,7,11]\n",
    "\n",
    "# le tableau A est le tableau avec la petit dimnesion\n",
    "def merge_sort(A,B):\n",
    "    \n",
    "    c = []\n",
    "    for i in A: \n",
    "        for j in B:\n",
    "            if i<j:\n",
    "                c.append(i)\n",
    "                break;\n",
    "            else:\n",
    "                if j in c :\n",
    "                    pass;\n",
    "                else:\n",
    "                    c.append(j)\n",
    "                \n",
    "\n",
    "        if i in c:\n",
    "            pass;\n",
    "        else:\n",
    "            c.append(i)\n",
    "\n",
    "\n",
    "\n",
    "    return c"
   ]
  },
  {
   "cell_type": "code",
   "execution_count": 14,
   "id": "7d18d09a",
   "metadata": {},
   "outputs": [
    {
     "name": "stdout",
     "output_type": "stream",
     "text": [
      "[1, 2, 3, 4, 5, 6, 7]\n"
     ]
    }
   ],
   "source": [
    "def merge_sorted_arrays(arr1, arr2):\n",
    "    \"\"\"\n",
    "    Merge two sorted arrays into a single sorted array\n",
    "    \"\"\"\n",
    "    merged_arr = []\n",
    "    i = j = 0\n",
    "\n",
    "    # Merge the two arrays by comparing elements\n",
    "    while i < len(arr1) and j < len(arr2):\n",
    "        if arr1[i] < arr2[j]:\n",
    "            merged_arr.append(arr1[i])\n",
    "            i += 1\n",
    "        else:\n",
    "            merged_arr.append(arr2[j])\n",
    "            j += 1\n",
    "\n",
    "    # Append remaining elements, if any\n",
    "    #merged_arr += arr1[i:]\n",
    "    #merged_arr += arr2[j:]\n",
    "\n",
    "    return merged_arr\n",
    "\n",
    "\n",
    "# Example usage\n",
    "arr1 = [1, 3, 5, 7]\n",
    "arr2 = [2, 4, 6, 8]\n",
    "merged_arr = merge_sorted_arrays(arr1, arr2)\n",
    "print(merged_arr)  # Output: [1, 2, 3, 4, 5, 6, 7, 8]\n",
    "\n",
    "\n",
    "\n",
    "\n"
   ]
  },
  {
   "cell_type": "code",
   "execution_count": 15,
   "id": "b0dbb88f",
   "metadata": {},
   "outputs": [
    {
     "data": {
      "text/plain": [
       "[1, 2, 4, 5, 5, 7, 8, 11, 17, 19]"
      ]
     },
     "execution_count": 15,
     "metadata": {},
     "output_type": "execute_result"
    }
   ],
   "source": [
    "merge_sort(A,B)"
   ]
  },
  {
   "cell_type": "code",
   "execution_count": 16,
   "id": "83f8a9b6",
   "metadata": {},
   "outputs": [
    {
     "data": {
      "text/plain": [
       "[1, 2, 4, 5, 5, 7, 8, 11]"
      ]
     },
     "execution_count": 16,
     "metadata": {},
     "output_type": "execute_result"
    }
   ],
   "source": [
    "merge_sort(B,A)"
   ]
  },
  {
   "cell_type": "code",
   "execution_count": 19,
   "id": "e88c4363",
   "metadata": {},
   "outputs": [],
   "source": [
    "A = [2,5,8,17,19]\n",
    "B = [1,4,5,7,11]\n",
    "\n",
    "# le tableau A est le tableau avec la petit dimnesion\n",
    "def merge_sort(A,B):\n",
    "    \n",
    "    \n",
    "    m = len(A)\n",
    "    l = len(B)\n",
    "    n = len(A) + len(B)\n",
    "    c = np.zeros(n)\n",
    "    while(l>0):\n",
    "        if A[l-1]<B[l-1]:\n",
    "            c[l-1] = B[l-1]\n",
    "        else:\n",
    "            c[l-1] = A[l-1]\n",
    "        l = l-1\n",
    "    \n",
    "    for i in range(l,m):\n",
    "        c[i-1] = A[i-1]\n",
    "    return c\n"
   ]
  },
  {
   "cell_type": "code",
   "execution_count": 20,
   "id": "f2db8288",
   "metadata": {},
   "outputs": [
    {
     "data": {
      "text/plain": [
       "array([ 2.,  5.,  8., 17., 19.,  0.,  0.,  0.,  0., 19.])"
      ]
     },
     "execution_count": 20,
     "metadata": {},
     "output_type": "execute_result"
    }
   ],
   "source": [
    "merge_sort(A,B)"
   ]
  },
  {
   "cell_type": "code",
   "execution_count": 21,
   "id": "4e4e5a9b",
   "metadata": {},
   "outputs": [],
   "source": [
    "def merge(A, B):\n",
    "    c = np.empty(len(A) + len(B), dtype=A.dtype)\n",
    "    i = j = k = 0\n",
    "    while i < len(A) and j < len(B):\n",
    "        if A[i] <= B[j]:\n",
    "            c[k] = A[i]\n",
    "            i += 1\n",
    "        else:\n",
    "            c[k] = B[j]\n",
    "            j += 1\n",
    "        k += 1\n",
    "    while i < len(A):\n",
    "        c[k] = A[i]\n",
    "        i += 1\n",
    "        k += 1\n",
    "    while j < len(B):\n",
    "        c[k] = B[j]\n",
    "        j += 1\n",
    "        k += 1\n",
    "    return c\n",
    "\n",
    "\n",
    "\n",
    "        "
   ]
  },
  {
   "cell_type": "raw",
   "id": "1ac7143b",
   "metadata": {},
   "source": [
    "n = len(A)\n",
    "m = len(B)\n",
    "on a la complexité de la 1er boucle est : O(n+m) (c'est la complexité du max(n,m))???\n",
    "la complexité de la 2eme while est: n\n",
    "la complexité de la 2eme while est: m"
   ]
  },
  {
   "cell_type": "markdown",
   "id": "81226f1a",
   "metadata": {},
   "source": [
    "The Master theorem is used to analyze the time complexity of recursive functions. In the case of the merge() function, which merges two sorted arrays into a single sorted array, the input size is n and the function calls two sub-problems of size n/2. Using the Master theorem, we can express the complexity of merge() as T(n) = 2T(n/2) + O(n). If we can show that the non-recursive part of the function has a complexity of O(n^c) for some constant c > 1, we can conclude that the complexity of merge() is O(n^c). The creation of the resulting array has a complexity of O(n), which is O(n^1), so we can choose c = 1.1, for example. For this value of c, we have c > log_b(a) (where a = 2 and b = 2), so the complexity of merge() is O(n^1.1). This is slightly higher than O(n) but lower than O(n log n)."
   ]
  },
  {
   "cell_type": "markdown",
   "id": "71577ef9",
   "metadata": {},
   "source": [
    "# Binary search"
   ]
  },
  {
   "cell_type": "code",
   "execution_count": 22,
   "id": "72232fa6",
   "metadata": {},
   "outputs": [],
   "source": [
    "def binarySearch(array, target): #returns the index or the target \n",
    "    low = array[0]\n",
    "    high = array[len(array)-1]\n",
    "    if array[0] == target:\n",
    "            return 0\n",
    "    elif array[len(array)-1] == target:\n",
    "        return len(array)-1\n",
    "    else:\n",
    "        while(low <= high):\n",
    "            mid = int((low+high)/2)\n",
    "            if array[mid]==target:\n",
    "                return mid\n",
    "            elif array[mid] > target:\n",
    "                high = mid -1\n",
    "            elif array[mid] < target:\n",
    "                low = mid +1\n",
    "        return -1  #returns -1 if the target does not exist"
   ]
  },
  {
   "cell_type": "markdown",
   "id": "bce7ee16",
   "metadata": {},
   "source": [
    "The while loop repeats until either the target is found or the size of the remaining subarray becomes 0. Since the size of the remaining subarray is halved at each iteration of the loop, the maximum number of iterations is log2(n). Each iteration takes constant time, so the total time complexity of the loop is O(log n)"
   ]
  },
  {
   "cell_type": "markdown",
   "id": "895b73c3",
   "metadata": {},
   "source": [
    "# Matrix multiplication"
   ]
  },
  {
   "cell_type": "raw",
   "id": "06edbf8e",
   "metadata": {},
   "source": [
    " Write a function using python3 that multiply two matrices A,B (without the use of numpy or any external library)."
   ]
  },
  {
   "cell_type": "code",
   "execution_count": 29,
   "id": "09e3aba4",
   "metadata": {},
   "outputs": [
    {
     "data": {
      "text/plain": [
       "(2, 3)"
      ]
     },
     "execution_count": 29,
     "metadata": {},
     "output_type": "execute_result"
    }
   ],
   "source": [
    "A = np.array([[1,2,3],[2,3,4]])\n",
    "A.shape"
   ]
  },
  {
   "cell_type": "code",
   "execution_count": 44,
   "id": "75ec317c",
   "metadata": {},
   "outputs": [
    {
     "data": {
      "text/plain": [
       "[[1, 2, 3], [2, 3, 4]]"
      ]
     },
     "execution_count": 44,
     "metadata": {},
     "output_type": "execute_result"
    }
   ],
   "source": [
    "A = [[1,2,3],[2,3,4]]\n",
    "A"
   ]
  },
  {
   "cell_type": "code",
   "execution_count": 41,
   "id": "ae6b4403",
   "metadata": {},
   "outputs": [
    {
     "data": {
      "text/plain": [
       "[2, 3, 4]"
      ]
     },
     "execution_count": 41,
     "metadata": {},
     "output_type": "execute_result"
    }
   ],
   "source": [
    "A[:][1]"
   ]
  },
  {
   "cell_type": "code",
   "execution_count": 52,
   "id": "2d11e314",
   "metadata": {},
   "outputs": [
    {
     "data": {
      "text/plain": [
       "3"
      ]
     },
     "execution_count": 52,
     "metadata": {},
     "output_type": "execute_result"
    }
   ],
   "source": [
    "A[1][1]"
   ]
  },
  {
   "cell_type": "code",
   "execution_count": 79,
   "id": "34b7de51",
   "metadata": {},
   "outputs": [],
   "source": [
    "def matmult(A,B):\n",
    "    rowA = len(A)\n",
    "    colB = len(B[0])\n",
    "    colA = len(A[0])\n",
    "    \n",
    "    C = [[0] *colB  for _ in range(rowA )]\n",
    "    for i in range(rowA):\n",
    "        for j in range(colB):\n",
    "            for k in range(colA):\n",
    "                C[i][j] = C[i][j] +A[i][k]*B[k][j]\n",
    "    return C\n",
    "    "
   ]
  },
  {
   "cell_type": "code",
   "execution_count": 80,
   "id": "1e4dcd3c",
   "metadata": {},
   "outputs": [
    {
     "data": {
      "text/plain": [
       "[[30, 24, 18], [84, 69, 54], [138, 114, 90]]"
      ]
     },
     "execution_count": 80,
     "metadata": {},
     "output_type": "execute_result"
    }
   ],
   "source": [
    "matmult(A,B)"
   ]
  },
  {
   "cell_type": "raw",
   "id": "c32576e2",
   "metadata": {},
   "source": [
    "The complexity of our algorithme is O(n**3)"
   ]
  },
  {
   "cell_type": "markdown",
   "id": "82a36779",
   "metadata": {},
   "source": [
    "# code in C"
   ]
  },
  {
   "cell_type": "raw",
   "id": "ea40eb44",
   "metadata": {},
   "source": [
    "#include<stdio.h>\n",
    "\n",
    "    void multiply(int r1, int c1, int r2, int c2);\n",
    "\n",
    "    int main()\n",
    "    {\n",
    "     int i,j,k,r1,c1,r2,c2;\n",
    "\n",
    "     printf(\"Enter row and column of first matrix\\n\");\n",
    "     scanf(\"%d%d\", &r1, &c1);\n",
    "     printf(\"Enter row and column of second matrix\\n\");\n",
    "     scanf(\"%d%d\", &r2, &c2);\n",
    "     multiply(r1,c1,r2,c2);\n",
    "     return 0;\n",
    "    }\n",
    "\n",
    "    void multiply(int r1, int c1, int r2, int c2)\n",
    "    {\n",
    "     int i,j,k;\n",
    "     float a[10][10], b[10][10], mul[10][10];\n",
    "     if(c1==r2)\n",
    "     {\n",
    "      printf(\"Enter elements of first matrix:\\n\");\n",
    "      for(i=0;i< r1;i++)\n",
    "      {\n",
    "       for(j=0;j< c1;j++)\n",
    "       {\n",
    "        printf(\"a[%d][%d]=\",i,j);\n",
    "        scanf(\"%f\", &a[i][j]);\n",
    "       }\n",
    "      }\n",
    "      printf(\"Enter elements of second matrix:\\n\");\n",
    "      for(i=0;i< r2;i++)\n",
    "      {\n",
    "       for(j=0;j< c2;j++)\n",
    "       {\n",
    "        printf(\"b[%d][%d]=\",i,j);\n",
    "        scanf(\"%f\", &b[i][j]);\n",
    "       }\n",
    "      }\n",
    "      for(i=0;i< r1;i++)\n",
    "      {\n",
    "       for(j=0;j< c2;j++)\n",
    "       {\n",
    "        mul[i][j] = 0;\n",
    "        for(k=0;k< r2;k++)\n",
    "        {\n",
    "         mul[i][j] = mul[i][j] + a[i][k]*b[k][j];\n",
    "        }\n",
    "       }\n",
    "      }\n",
    "      printf(\"Multiplied matrix is:\\n\");\n",
    "      for(i=0;i< r1;i++)\n",
    "      {\n",
    "       for(j=0;j< c2;j++)\n",
    "       {\n",
    "        printf(\"%f\\t\", mul[i][j]);\n",
    "       }\n",
    "       printf(\"\\n\");\n",
    "      }\n",
    "     }\n",
    "     else\n",
    "     {\n",
    "      printf(\"Dimension do not match for multiplication.\");\n",
    "     }\n",
    "    }\n"
   ]
  },
  {
   "cell_type": "code",
   "execution_count": null,
   "id": "ae90b21c",
   "metadata": {},
   "outputs": [],
   "source": []
  }
 ],
 "metadata": {
  "kernelspec": {
   "display_name": "Python 3 (ipykernel)",
   "language": "python",
   "name": "python3"
  },
  "language_info": {
   "codemirror_mode": {
    "name": "ipython",
    "version": 3
   },
   "file_extension": ".py",
   "mimetype": "text/x-python",
   "name": "python",
   "nbconvert_exporter": "python",
   "pygments_lexer": "ipython3",
   "version": "3.9.12"
  }
 },
 "nbformat": 4,
 "nbformat_minor": 5
}
